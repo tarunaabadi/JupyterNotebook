{
 "cells": [
  {
   "cell_type": "code",
   "execution_count": 18,
   "metadata": {},
   "outputs": [],
   "source": [
    "class Tugas1:\n",
    "    def __init__(this,bil):\n",
    "        this.bil = bil\n",
    "        this.fibonacci(0,1,this.bil)\n",
    "    def fibonacci(this,bilangan1,bilangan2,batas):\n",
    "        if(bilangan1 == 0):\n",
    "            print(bilangan1)\n",
    "            print(bilangan2)\n",
    "            print(bilangan2+bilangan1)\n",
    "            this.fibonacci(bilangan2,bilangan1+bilangan2,batas)\n",
    "        elif(bilangan1 + bilangan2 < batas):\n",
    "            print(bilangan1+bilangan2)\n",
    "            this.fibonacci(bilangan2,bilangan1+bilangan2,batas)\n",
    "        \n",
    "        "
   ]
  },
  {
   "cell_type": "code",
   "execution_count": 19,
   "metadata": {},
   "outputs": [
    {
     "name": "stdout",
     "output_type": "stream",
     "text": [
      "0\n",
      "1\n",
      "1\n",
      "2\n",
      "3\n"
     ]
    }
   ],
   "source": [
    "t = Tugas1(5)"
   ]
  },
  {
   "cell_type": "code",
   "execution_count": 21,
   "metadata": {},
   "outputs": [
    {
     "name": "stdout",
     "output_type": "stream",
     "text": [
      "0\n",
      "1\n",
      "1\n",
      "2\n",
      "3\n",
      "5\n",
      "8\n",
      "13\n",
      "21\n",
      "34\n",
      "55\n",
      "89\n",
      "144\n",
      "233\n",
      "377\n",
      "610\n",
      "987\n"
     ]
    }
   ],
   "source": [
    "p = Tugas1(1000)"
   ]
  },
  {
   "cell_type": "code",
   "execution_count": null,
   "metadata": {},
   "outputs": [],
   "source": []
  }
 ],
 "metadata": {
  "kernelspec": {
   "display_name": "Python 3",
   "language": "python",
   "name": "python3"
  },
  "language_info": {
   "codemirror_mode": {
    "name": "ipython",
    "version": 3
   },
   "file_extension": ".py",
   "mimetype": "text/x-python",
   "name": "python",
   "nbconvert_exporter": "python",
   "pygments_lexer": "ipython3",
   "version": "3.7.4"
  }
 },
 "nbformat": 4,
 "nbformat_minor": 2
}
