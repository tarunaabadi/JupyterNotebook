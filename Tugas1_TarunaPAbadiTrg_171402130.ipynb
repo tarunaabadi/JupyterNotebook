{
 "cells": [
  {
   "cell_type": "code",
   "execution_count": 18,
   "metadata": {},
   "outputs": [],
   "source": [
    "class Tugas1:\n",
    "    def __init__(this,bil):\n",
    "        this.bil = bil\n",
    "        this.fibonacci(0,1,this.bil)\n",
    "    def fibonacci(this,bilangan1,bilangan2,batas):\n",
    "        if(bilangan1 == 0):\n",
    "            print(bilangan1)\n",
    "            print(bilangan2)\n",
    "            print(bilangan2+bilangan1)\n",
    "            this.fibonacci(bilangan2,bilangan1+bilangan2,batas)\n",
    "        elif(bilangan1 + bilangan2 < batas):\n",
    "            print(bilangan1+bilangan2)\n",
    "            this.fibonacci(bilangan2,bilangan1+bilangan2,batas)\n",
    "        \n",
    "        "
   ]
  },
